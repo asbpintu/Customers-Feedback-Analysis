{
 "cells": [
  {
   "cell_type": "code",
   "execution_count": 1,
   "id": "25f10e38",
   "metadata": {},
   "outputs": [],
   "source": [
    "import pandas as pd\n",
    "from sklearn.model_selection import train_test_split\n",
    "\n",
    "import tensorflow as tf\n",
    "from tensorflow.keras.preprocessing.text import Tokenizer\n",
    "from tensorflow.keras.preprocessing.sequence import pad_sequences\n",
    "from tensorflow.keras.models import Sequential\n",
    "from tensorflow.keras.layers import Embedding, Conv1D, GlobalMaxPooling1D, Flatten, Dense, LSTM\n"
   ]
  },
  {
   "cell_type": "code",
   "execution_count": 2,
   "id": "b4ce3482",
   "metadata": {},
   "outputs": [],
   "source": [
    "# Reading new data\n",
    "\n",
    "new_df = pd.read_csv(r'C:\\Users\\asbpi\\Desktop\\Nit_DS & AI\\MY Projects\\project_sentiment analysis\\new_data.csv')\n",
    "\n",
    "reviews = new_df['reviews']\n"
   ]
  },
  {
   "cell_type": "code",
   "execution_count": 3,
   "id": "f84f1ec0",
   "metadata": {},
   "outputs": [],
   "source": [
    "# Convert any non-string elements to strings\n",
    "reviews = [str(review) for review in reviews]\n"
   ]
  },
  {
   "cell_type": "code",
   "execution_count": 4,
   "id": "095cb8bc",
   "metadata": {},
   "outputs": [],
   "source": [
    "# Remove null or NaN values\n",
    "reviews = [review for review in reviews if not pd.isnull(review)]\n"
   ]
  },
  {
   "cell_type": "code",
   "execution_count": 5,
   "id": "6f7a9568",
   "metadata": {},
   "outputs": [],
   "source": [
    "tokenizer = Tokenizer()\n",
    "tokenizer.fit_on_texts(reviews)\n",
    "word_index = tokenizer.word_index\n",
    "sequences = tokenizer.texts_to_sequences(reviews)\n",
    "padded_sequences = pad_sequences(sequences)\n"
   ]
  },
  {
   "cell_type": "code",
   "execution_count": 6,
   "id": "d65a830c",
   "metadata": {},
   "outputs": [],
   "source": [
    "X = padded_sequences\n",
    "y = new_df['target']\n"
   ]
  },
  {
   "cell_type": "code",
   "execution_count": 7,
   "id": "b33ee225",
   "metadata": {},
   "outputs": [],
   "source": [
    "X_train, X_test, y_train, y_test = train_test_split(X, y, test_size=0.2, random_state=42)\n"
   ]
  },
  {
   "cell_type": "code",
   "execution_count": 8,
   "id": "2192b270",
   "metadata": {},
   "outputs": [],
   "source": [
    "\n",
    "# ANN"
   ]
  },
  {
   "cell_type": "code",
   "execution_count": 9,
   "id": "8679aa19",
   "metadata": {},
   "outputs": [],
   "source": [
    "# Model Building\n",
    "model = Sequential()\n",
    "model.add(Embedding(len(word_index)+1, 100, input_length=X.shape[1]))\n",
    "model.add(Flatten())\n",
    "model.add(Dense(units=128, activation='relu'))\n",
    "model.add(Dense(units=64, activation='relu'))\n",
    "model.add(Dense(units=32, activation='relu'))\n",
    "model.add(Dense(units=1, activation='sigmoid'))\n"
   ]
  },
  {
   "cell_type": "code",
   "execution_count": 10,
   "id": "8078f96e",
   "metadata": {},
   "outputs": [],
   "source": [
    "# Compile the model\n",
    "model.compile(loss='binary_crossentropy', optimizer='adam', metrics=['accuracy'])\n"
   ]
  },
  {
   "cell_type": "code",
   "execution_count": 11,
   "id": "3f57f148",
   "metadata": {},
   "outputs": [
    {
     "name": "stdout",
     "output_type": "stream",
     "text": [
      "Epoch 1/50\n",
      "79/79 [==============================] - 4s 40ms/step - loss: 0.2864 - accuracy: 0.9210 - val_loss: 0.2966 - val_accuracy: 0.9079\n",
      "Epoch 2/50\n",
      "79/79 [==============================] - 3s 37ms/step - loss: 0.1774 - accuracy: 0.9381 - val_loss: 0.2302 - val_accuracy: 0.9238\n",
      "Epoch 3/50\n",
      "79/79 [==============================] - 3s 37ms/step - loss: 0.0726 - accuracy: 0.9710 - val_loss: 0.1987 - val_accuracy: 0.9365\n",
      "Epoch 4/50\n",
      "79/79 [==============================] - 3s 33ms/step - loss: 0.0376 - accuracy: 0.9849 - val_loss: 0.2405 - val_accuracy: 0.9444\n",
      "Epoch 5/50\n",
      "79/79 [==============================] - 3s 40ms/step - loss: 0.0289 - accuracy: 0.9889 - val_loss: 0.2671 - val_accuracy: 0.9444\n",
      "Epoch 6/50\n",
      "79/79 [==============================] - 3s 42ms/step - loss: 0.0263 - accuracy: 0.9905 - val_loss: 0.3157 - val_accuracy: 0.9444\n",
      "Epoch 7/50\n",
      "79/79 [==============================] - 3s 41ms/step - loss: 0.0233 - accuracy: 0.9917 - val_loss: 0.2828 - val_accuracy: 0.9365\n",
      "Epoch 8/50\n",
      "79/79 [==============================] - 3s 42ms/step - loss: 0.0209 - accuracy: 0.9921 - val_loss: 0.3370 - val_accuracy: 0.9381\n",
      "Epoch 9/50\n",
      "79/79 [==============================] - 3s 40ms/step - loss: 0.0263 - accuracy: 0.9897 - val_loss: 0.3403 - val_accuracy: 0.9413\n",
      "Epoch 10/50\n",
      "79/79 [==============================] - 3s 40ms/step - loss: 0.0244 - accuracy: 0.9917 - val_loss: 0.3521 - val_accuracy: 0.9413\n",
      "Epoch 11/50\n",
      "79/79 [==============================] - 3s 41ms/step - loss: 0.0222 - accuracy: 0.9921 - val_loss: 0.3159 - val_accuracy: 0.9397\n",
      "Epoch 12/50\n",
      "79/79 [==============================] - 3s 42ms/step - loss: 0.0214 - accuracy: 0.9925 - val_loss: 0.3116 - val_accuracy: 0.9333\n",
      "Epoch 13/50\n",
      "79/79 [==============================] - 3s 42ms/step - loss: 0.0206 - accuracy: 0.9921 - val_loss: 0.3659 - val_accuracy: 0.9381\n",
      "Epoch 14/50\n",
      "79/79 [==============================] - 3s 43ms/step - loss: 0.0253 - accuracy: 0.9901 - val_loss: 0.2883 - val_accuracy: 0.9333\n",
      "Epoch 15/50\n",
      "79/79 [==============================] - 3s 40ms/step - loss: 0.0239 - accuracy: 0.9921 - val_loss: 0.3670 - val_accuracy: 0.9381\n",
      "Epoch 16/50\n",
      "79/79 [==============================] - 3s 41ms/step - loss: 0.0220 - accuracy: 0.9921 - val_loss: 0.3291 - val_accuracy: 0.9063\n",
      "Epoch 17/50\n",
      "79/79 [==============================] - 3s 44ms/step - loss: 0.0217 - accuracy: 0.9921 - val_loss: 0.3299 - val_accuracy: 0.9317\n",
      "Epoch 18/50\n",
      "79/79 [==============================] - 3s 42ms/step - loss: 0.0209 - accuracy: 0.9933 - val_loss: 0.3455 - val_accuracy: 0.9317\n",
      "Epoch 19/50\n",
      "79/79 [==============================] - 3s 42ms/step - loss: 0.0218 - accuracy: 0.9925 - val_loss: 0.3808 - val_accuracy: 0.9413\n",
      "Epoch 20/50\n",
      "79/79 [==============================] - 3s 44ms/step - loss: 0.0214 - accuracy: 0.9913 - val_loss: 0.3625 - val_accuracy: 0.9190\n",
      "Epoch 21/50\n",
      "79/79 [==============================] - 4s 44ms/step - loss: 0.0277 - accuracy: 0.9913 - val_loss: 0.3500 - val_accuracy: 0.9381\n",
      "Epoch 22/50\n",
      "79/79 [==============================] - 3s 43ms/step - loss: 0.0202 - accuracy: 0.9929 - val_loss: 0.3616 - val_accuracy: 0.9349\n",
      "Epoch 23/50\n",
      "79/79 [==============================] - 3s 42ms/step - loss: 0.0197 - accuracy: 0.9929 - val_loss: 0.3492 - val_accuracy: 0.9349\n",
      "Epoch 24/50\n",
      "79/79 [==============================] - 3s 43ms/step - loss: 0.0207 - accuracy: 0.9933 - val_loss: 0.3647 - val_accuracy: 0.9365\n",
      "Epoch 25/50\n",
      "79/79 [==============================] - 3s 42ms/step - loss: 0.0192 - accuracy: 0.9933 - val_loss: 0.2999 - val_accuracy: 0.9333\n",
      "Epoch 26/50\n",
      "79/79 [==============================] - 4s 45ms/step - loss: 0.0198 - accuracy: 0.9933 - val_loss: 0.3639 - val_accuracy: 0.9365\n",
      "Epoch 27/50\n",
      "79/79 [==============================] - 4s 45ms/step - loss: 0.0187 - accuracy: 0.9929 - val_loss: 0.3607 - val_accuracy: 0.9349\n",
      "Epoch 28/50\n",
      "79/79 [==============================] - 3s 44ms/step - loss: 0.0193 - accuracy: 0.9929 - val_loss: 0.3796 - val_accuracy: 0.9349\n",
      "Epoch 29/50\n",
      "79/79 [==============================] - 3s 42ms/step - loss: 0.0177 - accuracy: 0.9933 - val_loss: 0.3766 - val_accuracy: 0.9349\n",
      "Epoch 30/50\n",
      "79/79 [==============================] - 3s 44ms/step - loss: 0.0177 - accuracy: 0.9937 - val_loss: 0.4832 - val_accuracy: 0.9302\n",
      "Epoch 31/50\n",
      "79/79 [==============================] - 3s 43ms/step - loss: 0.0188 - accuracy: 0.9933 - val_loss: 0.4490 - val_accuracy: 0.9349\n",
      "Epoch 32/50\n",
      "79/79 [==============================] - 3s 44ms/step - loss: 0.0191 - accuracy: 0.9933 - val_loss: 0.3745 - val_accuracy: 0.9365\n",
      "Epoch 33/50\n",
      "79/79 [==============================] - 3s 44ms/step - loss: 0.0186 - accuracy: 0.9933 - val_loss: 0.4175 - val_accuracy: 0.9365\n",
      "Epoch 34/50\n",
      "79/79 [==============================] - 3s 43ms/step - loss: 0.0186 - accuracy: 0.9933 - val_loss: 0.4689 - val_accuracy: 0.9349\n",
      "Epoch 35/50\n",
      "79/79 [==============================] - 3s 43ms/step - loss: 0.0188 - accuracy: 0.9933 - val_loss: 0.4377 - val_accuracy: 0.9349\n",
      "Epoch 36/50\n",
      "79/79 [==============================] - 3s 44ms/step - loss: 0.0179 - accuracy: 0.9933 - val_loss: 0.4823 - val_accuracy: 0.9349\n",
      "Epoch 37/50\n",
      "79/79 [==============================] - 3s 42ms/step - loss: 0.0179 - accuracy: 0.9933 - val_loss: 0.4971 - val_accuracy: 0.9349\n",
      "Epoch 38/50\n",
      "79/79 [==============================] - 3s 42ms/step - loss: 0.0185 - accuracy: 0.9933 - val_loss: 0.4751 - val_accuracy: 0.9349\n",
      "Epoch 39/50\n",
      "79/79 [==============================] - 3s 43ms/step - loss: 0.0185 - accuracy: 0.9933 - val_loss: 0.4825 - val_accuracy: 0.9333\n",
      "Epoch 40/50\n",
      "79/79 [==============================] - 3s 43ms/step - loss: 0.0178 - accuracy: 0.9933 - val_loss: 0.4666 - val_accuracy: 0.9333\n",
      "Epoch 41/50\n",
      "79/79 [==============================] - 4s 45ms/step - loss: 0.0181 - accuracy: 0.9933 - val_loss: 0.4833 - val_accuracy: 0.9333\n",
      "Epoch 42/50\n",
      "79/79 [==============================] - 3s 43ms/step - loss: 0.0186 - accuracy: 0.9933 - val_loss: 0.5012 - val_accuracy: 0.9333\n",
      "Epoch 43/50\n",
      "79/79 [==============================] - 3s 42ms/step - loss: 0.0185 - accuracy: 0.9933 - val_loss: 0.4288 - val_accuracy: 0.9349\n",
      "Epoch 44/50\n",
      "79/79 [==============================] - 3s 43ms/step - loss: 0.0183 - accuracy: 0.9933 - val_loss: 0.4959 - val_accuracy: 0.9333\n",
      "Epoch 45/50\n",
      "79/79 [==============================] - 3s 42ms/step - loss: 0.0191 - accuracy: 0.9933 - val_loss: 0.5084 - val_accuracy: 0.9333\n",
      "Epoch 46/50\n",
      "79/79 [==============================] - 3s 43ms/step - loss: 0.0181 - accuracy: 0.9933 - val_loss: 0.5043 - val_accuracy: 0.9333\n",
      "Epoch 47/50\n",
      "79/79 [==============================] - 3s 43ms/step - loss: 0.0179 - accuracy: 0.9933 - val_loss: 0.5331 - val_accuracy: 0.9333\n",
      "Epoch 48/50\n",
      "79/79 [==============================] - 3s 43ms/step - loss: 0.0179 - accuracy: 0.9933 - val_loss: 0.6871 - val_accuracy: 0.9175\n",
      "Epoch 49/50\n",
      "79/79 [==============================] - 3s 44ms/step - loss: 0.0266 - accuracy: 0.9917 - val_loss: 0.4619 - val_accuracy: 0.9333\n",
      "Epoch 50/50\n",
      "79/79 [==============================] - 3s 42ms/step - loss: 0.0192 - accuracy: 0.9925 - val_loss: 0.3671 - val_accuracy: 0.9317\n"
     ]
    },
    {
     "data": {
      "text/plain": [
       "<keras.callbacks.History at 0x2dcc6646a40>"
      ]
     },
     "execution_count": 11,
     "metadata": {},
     "output_type": "execute_result"
    }
   ],
   "source": [
    "# Train the model\n",
    "model.fit(X_train, y_train, epochs=50, batch_size=32, validation_data=(X_test, y_test))\n"
   ]
  },
  {
   "cell_type": "code",
   "execution_count": 16,
   "id": "e8410d9d",
   "metadata": {},
   "outputs": [
    {
     "name": "stdout",
     "output_type": "stream",
     "text": [
      "20/20 [==============================] - 0s 6ms/step - loss: 0.3671 - accuracy: 0.9317\n",
      "Accuracy: 0.9317460060119629\n",
      "Loss 0.3671189546585083\n"
     ]
    }
   ],
   "source": [
    "# Evaluate the model\n",
    "loss, accuracy = model.evaluate(X_test, y_test)\n",
    "print(\"Accuracy:\", accuracy)\n",
    "print('Loss', loss)\n",
    "\n"
   ]
  },
  {
   "cell_type": "code",
   "execution_count": 13,
   "id": "8143d258",
   "metadata": {},
   "outputs": [
    {
     "name": "stdout",
     "output_type": "stream",
     "text": [
      "Loss 0.3671189546585083\n"
     ]
    }
   ],
   "source": [
    "print('Loss', loss)"
   ]
  }
 ],
 "metadata": {
  "kernelspec": {
   "display_name": "Python 3 (ipykernel)",
   "language": "python",
   "name": "python3"
  },
  "language_info": {
   "codemirror_mode": {
    "name": "ipython",
    "version": 3
   },
   "file_extension": ".py",
   "mimetype": "text/x-python",
   "name": "python",
   "nbconvert_exporter": "python",
   "pygments_lexer": "ipython3",
   "version": "3.10.11"
  }
 },
 "nbformat": 4,
 "nbformat_minor": 5
}
