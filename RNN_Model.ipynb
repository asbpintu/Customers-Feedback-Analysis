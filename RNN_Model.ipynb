{
 "cells": [
  {
   "cell_type": "code",
   "execution_count": null,
   "id": "25f10e38",
   "metadata": {},
   "outputs": [],
   "source": [
    "import pandas as pd\n",
    "from sklearn.model_selection import train_test_split\n",
    "\n",
    "import tensorflow as tf\n",
    "from tensorflow.keras.preprocessing.text import Tokenizer\n",
    "from tensorflow.keras.preprocessing.sequence import pad_sequences\n",
    "from tensorflow.keras.models import Sequential\n",
    "from tensorflow.keras.layers import Embedding, Conv1D, GlobalMaxPooling1D, Flatten, Dense, LSTM\n"
   ]
  },
  {
   "cell_type": "code",
   "execution_count": null,
   "id": "b4ce3482",
   "metadata": {},
   "outputs": [],
   "source": [
    "# Reading new data\n",
    "\n",
    "new_df = pd.read_csv(r'C:\\Users\\asbpi\\Desktop\\Nit_DS & AI\\MY Projects\\project_sentiment analysis\\new_data.csv')\n",
    "\n",
    "reviews = new_df['reviews']\n"
   ]
  },
  {
   "cell_type": "code",
   "execution_count": null,
   "id": "f84f1ec0",
   "metadata": {},
   "outputs": [],
   "source": [
    "# Convert any non-string elements to strings\n",
    "reviews = [str(review) for review in reviews]\n"
   ]
  },
  {
   "cell_type": "code",
   "execution_count": null,
   "id": "095cb8bc",
   "metadata": {},
   "outputs": [],
   "source": [
    "# Remove null or NaN values\n",
    "reviews = [review for review in reviews if not pd.isnull(review)]\n"
   ]
  },
  {
   "cell_type": "code",
   "execution_count": null,
   "id": "6f7a9568",
   "metadata": {},
   "outputs": [],
   "source": [
    "tokenizer = Tokenizer()\n",
    "tokenizer.fit_on_texts(reviews)\n",
    "word_index = tokenizer.word_index\n",
    "sequences = tokenizer.texts_to_sequences(reviews)\n",
    "padded_sequences = pad_sequences(sequences)\n"
   ]
  },
  {
   "cell_type": "code",
   "execution_count": null,
   "id": "d65a830c",
   "metadata": {},
   "outputs": [],
   "source": [
    "X = padded_sequences\n",
    "y = new_df['target']\n"
   ]
  },
  {
   "cell_type": "code",
   "execution_count": null,
   "id": "b33ee225",
   "metadata": {},
   "outputs": [],
   "source": [
    "X_train, X_test, y_train, y_test = train_test_split(X, y, test_size=0.2, random_state=42)\n"
   ]
  },
  {
   "cell_type": "code",
   "execution_count": null,
   "id": "2192b270",
   "metadata": {},
   "outputs": [],
   "source": [
    "# RNN"
   ]
  },
  {
   "cell_type": "code",
   "execution_count": null,
   "id": "fd60027c",
   "metadata": {},
   "outputs": [],
   "source": [
    "# Build the RNN model\n",
    "model = Sequential()\n",
    "model.add(Embedding(len(word_index)+1, 100, input_length=X.shape[1]))\n",
    "model.add(LSTM(units=128, return_sequences=True))\n",
    "model.add(LSTM(units=64, return_sequences=True))\n",
    "model.add(LSTM(units=32))\n",
    "model.add(Dense(units=1, activation='sigmoid'))\n"
   ]
  },
  {
   "cell_type": "code",
   "execution_count": null,
   "id": "553f1602",
   "metadata": {},
   "outputs": [],
   "source": [
    "model.compile(loss='binary_crossentropy', optimizer='adam', metrics=['accuracy'])\n"
   ]
  },
  {
   "cell_type": "code",
   "execution_count": null,
   "id": "edd2e521",
   "metadata": {},
   "outputs": [],
   "source": [
    "# Train the model\n",
    "model.fit(X_train, y_train, epochs=50, batch_size=32)\n"
   ]
  },
  {
   "cell_type": "code",
   "execution_count": null,
   "id": "aa1f3cc4",
   "metadata": {},
   "outputs": [],
   "source": [
    "# Evaluate on the test set\n",
    "loss, accuracy = model.evaluate(X_test, y_test)\n",
    "print(\"Accuracy:\", accuracy)\n"
   ]
  },
  {
   "cell_type": "code",
   "execution_count": null,
   "id": "5e366375",
   "metadata": {},
   "outputs": [],
   "source": [
    "print('Loss', loss)"
   ]
  },
  {
   "cell_type": "code",
   "execution_count": null,
   "id": "b44501ad",
   "metadata": {},
   "outputs": [],
   "source": []
  }
 ],
 "metadata": {
  "kernelspec": {
   "display_name": "Python 3 (ipykernel)",
   "language": "python",
   "name": "python3"
  },
  "language_info": {
   "codemirror_mode": {
    "name": "ipython",
    "version": 3
   },
   "file_extension": ".py",
   "mimetype": "text/x-python",
   "name": "python",
   "nbconvert_exporter": "python",
   "pygments_lexer": "ipython3",
   "version": "3.10.9"
  }
 },
 "nbformat": 4,
 "nbformat_minor": 5
}
